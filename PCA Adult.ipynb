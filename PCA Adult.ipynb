{
  "nbformat": 4,
  "nbformat_minor": 0,
  "metadata": {
    "colab": {
      "provenance": []
    },
    "kernelspec": {
      "name": "python3",
      "display_name": "Python 3"
    },
    "language_info": {
      "name": "python"
    }
  },
  "cells": [
    {
      "cell_type": "code",
      "execution_count": 22,
      "metadata": {
        "id": "2SPeoCVEVq03",
        "colab": {
          "base_uri": "https://localhost:8080/"
        },
        "outputId": "6c064a42-af5f-40c6-ac81-f71fb6f8e488"
      },
      "outputs": [
        {
          "output_type": "stream",
          "name": "stdout",
          "text": [
            "Drive already mounted at /content/gdrive; to attempt to forcibly remount, call drive.mount(\"/content/gdrive\", force_remount=True).\n"
          ]
        }
      ],
      "source": [
        "from google.colab import drive\n",
        "drive.mount('/content/gdrive')\n",
        "\n"
      ]
    },
    {
      "cell_type": "code",
      "source": [
        "import time\n",
        "import pandas as pd\n",
        "import numpy as np\n",
        "start_time = time.perf_counter()\n"
      ],
      "metadata": {
        "id": "EfXRTp9MX0BU"
      },
      "execution_count": 54,
      "outputs": []
    },
    {
      "cell_type": "code",
      "source": [
        "A = pd.read_csv(\"/content/gdrive/MyDrive/Colab Notebooks/data lin algebra/adult.data.csv\")"
      ],
      "metadata": {
        "id": "wMBdTdBtYUFI"
      },
      "execution_count": 55,
      "outputs": []
    },
    {
      "cell_type": "code",
      "source": [
        "np.array(A).shape"
      ],
      "metadata": {
        "id": "Q6JLfT3WFBYk",
        "outputId": "759a2501-c084-4546-b9c6-a46043a3d5e5",
        "colab": {
          "base_uri": "https://localhost:8080/"
        }
      },
      "execution_count": 56,
      "outputs": [
        {
          "output_type": "execute_result",
          "data": {
            "text/plain": [
              "(32561, 15)"
            ]
          },
          "metadata": {},
          "execution_count": 56
        }
      ]
    },
    {
      "cell_type": "code",
      "source": [
        "import pandas as pd\n",
        "import numpy as np\n",
        "from sklearn.preprocessing import StandardScaler\n",
        "import time\n",
        "\n",
        "column_names = [\n",
        "    \"c1\", \"c2\", \"c3\", \"c4\", \"c5\", \"c6\",\n",
        "    \"c7\", \"c8\", \"c9\", \"c10\", \"c11\", \"c12\",\n",
        "    \"c13\", \"c14\", \"c15\"\n",
        "]\n",
        "\n",
        "dataset_path = \"/content/gdrive/MyDrive/Colab Notebooks/data lin algebra/adult.data.csv\"\n",
        "adult_df = pd.read_csv(dataset_path, names=column_names, skiprows=1)\n",
        "\n",
        "\n",
        "categorical_cols = [\"c2\", \"c4\", \"c6\", \"c7\",\n",
        "                    \"c8\", \"c9\", \"c10\", \"c14\", \"c15\"]\n",
        "\n",
        "most_frequent = df[col].value_counts().idxmax()\n",
        "for col in column_names:\n",
        "    adult_df[col] = adult_df[col].replace(\" ?\", most_frequent)\n",
        "\n"
      ],
      "metadata": {
        "id": "wkJw7CmxMjCp"
      },
      "execution_count": 57,
      "outputs": []
    },
    {
      "cell_type": "code",
      "source": [
        "\n",
        "adult_df.to_csv('/content/gdrive/MyDrive/Colab Notebooks/data lin algebra/clean1.csv', index=False)"
      ],
      "metadata": {
        "id": "mQ0Gf2h3CLkv"
      },
      "execution_count": 58,
      "outputs": []
    },
    {
      "cell_type": "code",
      "source": [
        "# Convert categorical variables to numerical\n",
        "from sklearn.preprocessing import LabelEncoder\n",
        "label_encoders = {}\n",
        "for col in categorical_cols:\n",
        "    le = LabelEncoder()\n",
        "    adult_df[col] = le.fit_transform(adult_df[col])\n",
        "    label_encoders[col] = le\n",
        "\n",
        "\n"
      ],
      "metadata": {
        "id": "fwDjql6BCHvw"
      },
      "execution_count": 59,
      "outputs": []
    },
    {
      "cell_type": "code",
      "source": [
        "adult_df\n",
        "adult_df.to_csv('/content/gdrive/MyDrive/Colab Notebooks/data lin algebra/clean_final.csv', index=False)"
      ],
      "metadata": {
        "id": "s16wQbMuDZqO"
      },
      "execution_count": 60,
      "outputs": []
    },
    {
      "cell_type": "code",
      "source": [
        "standard_scaler = StandardScaler()\n",
        "data = standard_scaler.fit_transform(adult_df)\n",
        "\n",
        "print(data)"
      ],
      "metadata": {
        "colab": {
          "base_uri": "https://localhost:8080/"
        },
        "id": "odv6WZrVKw1l",
        "outputId": "35fac54d-f2fc-444e-ca42-5e1f62d01aeb"
      },
      "execution_count": 61,
      "outputs": [
        {
          "output_type": "stream",
          "name": "stdout",
          "text": [
            "[[-0.04264203  0.09005041  0.2450785  ... -0.03542945  0.29156857\n",
            "  -0.56319851]\n",
            " [ 1.05704673  0.09005041  0.42580136 ... -0.03542945  0.29156857\n",
            "  -0.56319851]\n",
            " [-0.77576787  0.09005041  1.40817572 ... -0.03542945 -4.05422257\n",
            "  -0.56319851]\n",
            " ...\n",
            " [ 0.98373415  0.77689313  0.92989258 ... -0.03542945  0.29156857\n",
            "   1.77557289]\n",
            " [ 0.03067056  2.15057856 -1.06361075 ... -0.03542945  0.29156857\n",
            "  -0.56319851]\n",
            " [ 0.83710898  1.46373585 -1.008707   ... -2.22215312  0.29156857\n",
            "  -0.56319851]]\n"
          ]
        }
      ]
    },
    {
      "cell_type": "code",
      "source": [
        "covariance_matrix = np.cov(data.transpose(), rowvar=True)\n",
        "print(covariance_matrix)\n"
      ],
      "metadata": {
        "colab": {
          "base_uri": "https://localhost:8080/"
        },
        "id": "c1ZaFwjZK5GK",
        "outputId": "591933ec-2aff-45a0-9949-fd7cc8e6d0b4"
      },
      "execution_count": 62,
      "outputs": [
        {
          "output_type": "stream",
          "name": "stdout",
          "text": [
            "[[ 1.00003071e+00  3.78746893e-03 -7.66482219e-02 -1.05086045e-02\n",
            "   3.65283113e-02 -2.66296201e-01 -2.09476685e-02 -2.63705686e-01\n",
            "   2.87192628e-02  8.88344595e-02  7.76768837e-02  5.77763139e-02\n",
            "   6.87578192e-02 -1.15106867e-03  2.34044291e-01]\n",
            " [ 3.78746893e-03  1.00003071e+00 -1.66561295e-02  2.35139075e-02\n",
            "   5.20866231e-02 -6.47332306e-02  2.54899648e-01 -9.04638479e-02\n",
            "   4.97436022e-02  9.59837826e-02  3.38361186e-02  1.22158950e-02\n",
            "   1.38966422e-01 -7.69018513e-03  5.16058579e-02]\n",
            " [-7.66482219e-02 -1.66561295e-02  1.00003071e+00 -2.81454559e-02\n",
            "  -4.31959593e-02  2.81539860e-02  1.59667454e-03  8.93141274e-03\n",
            "  -2.12912960e-02  2.68588701e-02  4.31899056e-04 -1.02520265e-02\n",
            "  -1.87690670e-02 -5.19673633e-02 -9.46284787e-03]\n",
            " [-1.05086045e-02  2.35139075e-02 -2.81454559e-02  1.00003071e+00\n",
            "   3.59163973e-01 -3.84080984e-02 -2.12602716e-02 -1.08764364e-02\n",
            "   1.41316827e-02 -2.73570783e-02  3.00468033e-02  1.67467464e-02\n",
            "   5.55119309e-02  6.42899533e-02  7.93190453e-02]\n",
            " [ 3.65283113e-02  5.20866231e-02 -4.31959593e-02  3.59163973e-01\n",
            "   1.00003071e+00 -6.93062177e-02  1.09700750e-01 -9.41559776e-02\n",
            "   3.18393722e-02  1.22804315e-02  1.22633881e-01  7.99254113e-02\n",
            "   1.48127282e-01  5.08415295e-02  3.35164246e-01]\n",
            " [-2.66296201e-01 -6.47332306e-02  2.81539860e-02 -3.84080984e-02\n",
            "  -6.93062177e-02  1.00003071e+00 -9.65406522e-03  1.85456666e-01\n",
            "  -6.80151510e-02 -1.29318439e-01 -4.33948018e-02 -3.41884181e-02\n",
            "  -1.90525285e-01 -2.38195693e-02 -1.99313130e-01]\n",
            " [-2.09476685e-02  2.54899648e-01  1.59667454e-03 -2.12602716e-02\n",
            "   1.09700750e-01 -9.65406522e-03  1.00003071e+00 -7.56093443e-02\n",
            "   6.76321464e-03  8.02989091e-02  2.55053143e-02  1.79876257e-02\n",
            "   8.03859268e-02 -1.25433397e-02  7.54705154e-02]\n",
            " [-2.63705686e-01 -9.04638479e-02  8.93141274e-03 -1.08764364e-02\n",
            "  -9.41559776e-02  1.85456666e-01 -7.56093443e-02  1.00003071e+00\n",
            "  -1.16058160e-01 -5.82471579e-01 -5.79212290e-02 -6.10640735e-02\n",
            "  -2.48982121e-01 -5.50696360e-03 -2.50925848e-01]\n",
            " [ 2.87192628e-02  4.97436022e-02 -2.12912960e-02  1.41316827e-02\n",
            "   3.18393722e-02 -6.80151510e-02  6.76321464e-03 -1.16058160e-01\n",
            "   1.00003071e+00  8.72069798e-02  1.11451428e-02  1.88995808e-02\n",
            "   4.19108400e-02  1.37856127e-01  7.18478180e-02]\n",
            " [ 8.88344595e-02  9.59837826e-02  2.68588701e-02 -2.73570783e-02\n",
            "   1.22804315e-02 -1.29318439e-01  8.02989091e-02 -5.82471579e-01\n",
            "   8.72069798e-02  1.00003071e+00  4.84811358e-02  4.55687542e-02\n",
            "   2.29316192e-01 -8.11897048e-03  2.15986784e-01]\n",
            " [ 7.76768837e-02  3.38361186e-02  4.31899056e-04  3.00468033e-02\n",
            "   1.22633881e-01 -4.33948018e-02  2.55053143e-02 -5.79212290e-02\n",
            "   1.11451428e-02  4.84811358e-02  1.00003071e+00 -3.16160339e-02\n",
            "   7.84110235e-02 -1.98225572e-03  2.23335677e-01]\n",
            " [ 5.77763139e-02  1.22158950e-02 -1.02520265e-02  1.67467464e-02\n",
            "   7.99254113e-02 -3.41884181e-02  1.79876257e-02 -6.10640735e-02\n",
            "   1.88995808e-02  4.55687542e-02 -3.16160339e-02  1.00003071e+00\n",
            "   5.42580286e-02  4.18549892e-04  1.50530935e-01]\n",
            " [ 6.87578192e-02  1.38966422e-01 -1.87690670e-02  5.55119309e-02\n",
            "   1.48127282e-01 -1.90525285e-01  8.03859268e-02 -2.48982121e-01\n",
            "   4.19108400e-02  2.29316192e-01  7.84110235e-02  5.42580286e-02\n",
            "   1.00003071e+00 -2.67112380e-03  2.29696120e-01]\n",
            " [-1.15106867e-03 -7.69018513e-03 -5.19673633e-02  6.42899533e-02\n",
            "   5.08415295e-02 -2.38195693e-02 -1.25433397e-02 -5.50696360e-03\n",
            "   1.37856127e-01 -8.11897048e-03 -1.98225572e-03  4.18549892e-04\n",
            "  -2.67112380e-03  1.00003071e+00  1.58407495e-02]\n",
            " [ 2.34044291e-01  5.16058579e-02 -9.46284787e-03  7.93190453e-02\n",
            "   3.35164246e-01 -1.99313130e-01  7.54705154e-02 -2.50925848e-01\n",
            "   7.18478180e-02  2.15986784e-01  2.23335677e-01  1.50530935e-01\n",
            "   2.29696120e-01  1.58407495e-02  1.00003071e+00]]\n"
          ]
        }
      ]
    },
    {
      "cell_type": "code",
      "source": [
        "eigenvalues, eigenvectors = np.linalg.eig(covariance_matrix)\n",
        "\n",
        "print(\"Eigenvalues:\")\n",
        "print(eigenvalues)\n",
        "\n",
        "print(\"Eigenvectors:\")\n",
        "print(eigenvectors)"
      ],
      "metadata": {
        "colab": {
          "base_uri": "https://localhost:8080/"
        },
        "id": "LCjPGYA8K-bT",
        "outputId": "a46a765f-0fa1-4bba-f466-8874e5b017de"
      },
      "execution_count": 63,
      "outputs": [
        {
          "output_type": "stream",
          "name": "stdout",
          "text": [
            "Eigenvalues:\n",
            "[2.40150243 1.44613086 0.37973436 1.26993013 0.52110204 0.64946468\n",
            " 0.68905446 1.14732879 0.76441019 1.07315265 0.85689678 0.84487805\n",
            " 0.94160978 1.03050731 0.98475819]\n",
            "Eigenvectors:\n",
            "[[-2.74951012e-01 -1.14016789e-01  2.42879019e-01 -4.03179688e-01\n",
            "  -5.11839650e-02 -3.78209323e-01 -4.18348254e-01  1.16978873e-01\n",
            "  -9.40324533e-02 -4.00481137e-01  4.06391023e-01  1.70187012e-02\n",
            "  -1.42833523e-01  2.03651208e-02  3.15103773e-03]\n",
            " [-1.66569846e-01 -1.30608567e-02 -6.74709343e-03  5.68582692e-01\n",
            "  -3.61907761e-02  2.97488945e-01 -2.68896588e-01 -9.84955907e-02\n",
            "  -5.78629897e-01 -3.31564381e-01 -3.62642939e-02 -8.13281031e-02\n",
            "  -1.55526985e-01  9.96924652e-04 -8.33102457e-03]\n",
            " [ 4.03171734e-02 -1.04049686e-01  1.18191585e-03  1.34576058e-01\n",
            "  -4.65845438e-02 -7.60177323e-02 -1.10725491e-01  2.35761287e-01\n",
            "  -4.80419293e-02  5.16808177e-01  1.34264357e-01  1.17821131e-01\n",
            "  -6.70583502e-01 -1.39694876e-01  3.50912233e-01]\n",
            " [-1.16671972e-01  5.48229649e-01 -3.49768868e-02 -1.42273802e-02\n",
            "   4.17971132e-01 -3.01274748e-01  1.64880761e-01 -8.60088107e-02\n",
            "  -3.23625304e-01  2.41743812e-01  1.64311035e-01 -1.10379359e-01\n",
            "  -1.46071003e-01  7.55057796e-02 -3.93654152e-01]\n",
            " [-2.65616312e-01  5.75287947e-01  1.61438941e-01  5.52635193e-02\n",
            "  -6.45041810e-01  2.13525060e-01 -1.04460904e-01  5.40954960e-02\n",
            "   2.22139753e-01  1.35307941e-01  1.26472642e-01 -4.72558860e-02\n",
            "   2.05455861e-02  4.85936783e-02 -7.21016633e-02]\n",
            " [ 2.94061153e-01  6.22296332e-02  1.90920034e-02  2.43779183e-01\n",
            "   7.17919307e-02 -2.26742017e-01 -5.81780709e-01 -4.30936407e-03\n",
            "  -4.84257705e-02  3.45945804e-01  1.66491299e-01 -2.34988801e-02\n",
            "   5.37875490e-01 -9.67102975e-03  1.22925397e-01]\n",
            " [-1.40580992e-01  2.75273193e-02 -6.36716119e-03  6.07381574e-01\n",
            "   1.24020064e-01 -3.28758630e-01  2.63278270e-01 -5.30458391e-04\n",
            "   4.44943665e-01 -2.64433845e-01  3.37519099e-01  1.31877466e-01\n",
            "   1.03637399e-02  3.56066806e-02  1.31000753e-01]\n",
            " [ 4.47886637e-01  3.18694557e-01  6.92503019e-01  2.41401230e-02\n",
            "   2.15289452e-01  5.71238779e-02 -1.73805750e-02  6.94953094e-02\n",
            "   8.19623804e-02 -2.34315327e-01 -2.20411353e-01 -2.39884057e-02\n",
            "  -1.53620083e-01 -1.84862847e-02  1.68002408e-01]\n",
            " [-1.33610460e-01 -2.64575968e-02  3.51476497e-02 -4.80682374e-02\n",
            "   2.08893320e-03 -1.11432122e-01 -2.22408241e-02 -6.04326321e-01\n",
            "   1.31553989e-01  5.83781763e-02 -3.36292159e-02 -6.66482436e-01\n",
            "  -1.00093898e-01 -1.41005074e-01  3.22227321e-01]\n",
            " [-3.87491791e-01 -3.75858944e-01  6.44490768e-01  8.95568073e-02\n",
            "   8.18850230e-02  1.32915162e-01  1.94899571e-01 -6.78303930e-02\n",
            "  -9.10178852e-02  3.59309042e-01  9.74510492e-02  5.90004097e-02\n",
            "   2.14144614e-01 -5.15449237e-03 -1.48268369e-01]\n",
            " [-1.72073876e-01  1.73749013e-01 -2.70567905e-03 -4.31118078e-02\n",
            "  -9.89971473e-02 -2.16820537e-01  2.85674617e-01  2.78739160e-01\n",
            "  -3.17143709e-01 -7.30581872e-02 -1.23293331e-01 -3.78844619e-04\n",
            "   2.91906116e-01 -6.27060452e-01  3.50265351e-01]\n",
            " [-1.26512595e-01  7.45536900e-02  6.73817347e-03 -6.78488873e-02\n",
            "  -6.40898841e-02 -1.44319763e-01  1.87232796e-01  6.24482300e-02\n",
            "  -2.58050345e-01  3.83803932e-02 -1.22744872e-01  2.51254089e-02\n",
            "   1.26992119e-01  7.33600064e-01  5.21381963e-01]\n",
            " [-3.40869387e-01 -1.60207470e-02  3.00409745e-02  1.37491909e-01\n",
            "   1.37589471e-03 -3.98262619e-01 -2.80342416e-01  4.27990145e-02\n",
            "   1.83495568e-01  4.46766112e-02 -7.35732684e-01  1.00701152e-01\n",
            "  -8.64306448e-02  1.82557794e-02 -1.72605972e-01]\n",
            " [-3.55858897e-02  1.54033942e-01  1.59742987e-03 -1.18951197e-01\n",
            "  -2.23706542e-03  1.42866988e-02 -5.16015093e-02 -6.45472055e-01\n",
            "  -6.58595372e-02  2.26637553e-03  1.93620433e-03  6.98256764e-01\n",
            "  -1.96790343e-02 -1.31962902e-01  1.77873275e-01]\n",
            " [-4.15877830e-01  1.91297504e-01 -1.27082760e-01 -1.18417776e-01\n",
            "   5.61794031e-01  4.54777394e-01 -2.40486940e-01  1.89700804e-01\n",
            "   2.49301486e-01  3.28643839e-03  9.47117931e-03  1.62391413e-02\n",
            "   7.66933279e-02 -3.56887920e-02  2.72675124e-01]]\n"
          ]
        }
      ]
    },
    {
      "cell_type": "code",
      "source": [
        "import numpy as np\n",
        "\n",
        "\n",
        "explained_variance_ratio =  eigenvalues / np.sum( eigenvalues)\n",
        "\n",
        "# محاسبه واریانس تجمعی\n",
        "cumulative_variance = np.cumsum(explained_variance_ratio)\n",
        "\n",
        "#  انتخاب K برای حفظ حداقل ٪ واریانس\n",
        "k = np.argmax(cumulative_variance >= 0.90)\n",
        "\n",
        "#  نمایش نتایج\n",
        "print(\"🔹 نسبت واریانس توضیح داده‌شده:\")\n",
        "print(explained_variance_ratio)\n",
        "\n",
        "print(\"\\n🔹 واریانس تجمعی:\")\n",
        "print(cumulative_variance)\n",
        "\n",
        "print(f\"\\n تعداد مؤلفه‌های اصلی انتخاب‌شده (K) برای حفظ ٪ واریانس: {k}\")"
      ],
      "metadata": {
        "colab": {
          "base_uri": "https://localhost:8080/"
        },
        "id": "aHqpNDPBLEb6",
        "outputId": "9538237f-fb18-4398-8d71-d0ade091b97b"
      },
      "execution_count": 80,
      "outputs": [
        {
          "output_type": "stream",
          "name": "stdout",
          "text": [
            "🔹 نسبت واریانس توضیح داده‌شده:\n",
            "[0.16009525 0.09640576 0.02531485 0.08465941 0.03473907 0.04329632\n",
            " 0.04593555 0.07648624 0.05095911 0.07154131 0.0571247  0.05632347\n",
            " 0.06277206 0.06869838 0.06564853]\n",
            "\n",
            "🔹 واریانس تجمعی:\n",
            "[0.16009525 0.25650101 0.28181585 0.36647526 0.40121433 0.44451065\n",
            " 0.4904462  0.56693244 0.61789155 0.68943286 0.74655756 0.80288104\n",
            " 0.86565309 0.93435147 1.        ]\n",
            "\n",
            " تعداد مؤلفه‌های اصلی انتخاب‌شده (K) برای حفظ ٪ واریانس: 13\n"
          ]
        }
      ]
    },
    {
      "cell_type": "code",
      "source": [
        "import numpy as np\n",
        "\n",
        "# Define the matrix\n",
        "matrix = np.array([\n",
        "    [-2.74951012e-01, -1.14016789e-01,  2.42879019e-01, -4.03179688e-01,\n",
        "     -5.11839650e-02, -3.78209323e-01, -4.18348254e-01,  1.16978873e-01,\n",
        "     -9.40324533e-02, -4.00481137e-01,  4.06391023e-01,  1.70187012e-02,\n",
        "     -1.42833523e-01,  2.03651208e-02,  3.15103773e-03],\n",
        "    [-1.66569846e-01, -1.30608567e-02, -6.74709343e-03,  5.68582692e-01,\n",
        "     -3.61907761e-02,  2.97488945e-01, -2.68896588e-01, -9.84955907e-02,\n",
        "     -5.78629897e-01, -3.31564381e-01, -3.62642939e-02, -8.13281031e-02,\n",
        "     -1.55526985e-01,  9.96924652e-04, -8.33102457e-03],\n",
        "    [4.03171734e-02, -1.04049686e-01,  1.18191585e-03,  1.34576058e-01,\n",
        "     -4.65845438e-02, -7.60177323e-02, -1.10725491e-01,  2.35761287e-01,\n",
        "     -4.80419293e-02,  5.16808177e-01,  1.34264357e-01,  1.17821131e-01,\n",
        "     -6.70583502e-01, -1.39694876e-01,  3.50912233e-01],\n",
        "    [-1.16671972e-01,  5.48229649e-01, -3.49768868e-02, -1.42273802e-02,\n",
        "      4.17971132e-01, -3.01274748e-01,  1.64880761e-01, -8.60088107e-02,\n",
        "     -3.23625304e-01,  2.41743812e-01,  1.64311035e-01, -1.10379359e-01,\n",
        "     -1.46071003e-01,  7.55057796e-02, -3.93654152e-01],\n",
        "    [-2.65616312e-01,  5.75287947e-01,  1.61438941e-01,  5.52635193e-02,\n",
        "     -6.45041810e-01,  2.13525060e-01, -1.04460904e-01,  5.40954960e-02,\n",
        "      2.22139753e-01,  1.35307941e-01,  1.26472642e-01, -4.72558860e-02,\n",
        "      2.05455861e-02,  4.85936783e-02, -7.21016633e-02],\n",
        "    [2.94061153e-01,  6.22296332e-02,  1.90920034e-02,  2.43779183e-01,\n",
        "      7.17919307e-02, -2.26742017e-01, -5.81780709e-01, -4.30936407e-03,\n",
        "     -4.84257705e-02,  3.45945804e-01,  1.66491299e-01, -2.34988801e-02,\n",
        "      5.37875490e-01, -9.67102975e-03,  1.22925397e-01],\n",
        "    [-1.40580992e-01,  2.75273193e-02, -6.36716119e-03,  6.07381574e-01,\n",
        "      1.24020064e-01, -3.28758630e-01,  2.63278270e-01, -5.30458391e-04,\n",
        "      4.44943665e-01, -2.64433845e-01,  3.37519099e-01,  1.31877466e-01,\n",
        "      1.03637399e-02,  3.56066806e-02,  1.31000753e-01],\n",
        "    [4.47886637e-01,  3.18694557e-01,  6.92503019e-01,  2.41401230e-02,\n",
        "      2.15289452e-01,  5.71238779e-02, -1.73805750e-02,  6.94953094e-02,\n",
        "      8.19623804e-02, -2.34315327e-01, -2.20411353e-01, -2.39884057e-02,\n",
        "     -1.53620083e-01, -1.84862847e-02,  1.68002408e-01],\n",
        "    [-1.33610460e-01, -2.64575968e-02,  3.51476497e-02, -4.80682374e-02,\n",
        "      2.08893320e-03, -1.11432122e-01, -2.22408241e-02, -6.04326321e-01,\n",
        "      1.31553989e-01,  5.83781763e-02, -3.36292159e-02, -6.66482436e-01,\n",
        "     -1.00093898e-01, -1.41005074e-01,  3.22227321e-01],\n",
        "    [-3.87491791e-01, -3.75858944e-01,  6.44490768e-01,  8.95568073e-02,\n",
        "      8.18850230e-02,  1.32915162e-01,  1.94899571e-01, -6.78303930e-02,\n",
        "     -9.10178852e-02,  3.59309042e-01,  9.74510492e-02,  5.90004097e-02,\n",
        "      2.14144614e-01, -5.15449237e-03, -1.48268369e-01],\n",
        "    [-1.72073876e-01,  1.73749013e-01, -2.70567905e-03, -4.31118078e-02,\n",
        "     -9.89971473e-02, -2.16820537e-01,  2.85674617e-01,  2.78739160e-01,\n",
        "     -3.17143709e-01, -7.30581872e-02, -1.23293331e-01, -3.78844619e-04,\n",
        "      2.91906116e-01, -6.27060452e-01,  3.50265351e-01],\n",
        "    [-1.26512595e-01,  7.45536900e-02,  6.73817347e-03, -6.78488873e-02,\n",
        "     -6.40898841e-02, -1.44319763e-01,  1.87232796e-01,  6.24482300e-02,\n",
        "     -2.58050345e-01,  3.83803932e-02, -1.22744872e-01,  2.51254089e-02,\n",
        "      1.26992119e-01,  7.33600064e-01,  5.21381963e-01],\n",
        "    [-3.40869387e-01, -1.60207470e-02,  3.00409745e-02,  1.37491909e-01,\n",
        "      1.37589471e-03, -3.98262619e-01, -2.80342416e-01,  4.27990145e-02,\n",
        "      1.83495568e-01,  4.46766112e-02, -7.35732684e-01,  1.00701152e-01,\n",
        "     -8.64306448e-02,  1.82557794e-02, -1.72605972e-01]\n",
        "])\n",
        "\n",
        "print(matrix)\n",
        "print(matrix.shape)"
      ],
      "metadata": {
        "colab": {
          "base_uri": "https://localhost:8080/"
        },
        "id": "RwVgr1ScUqBP",
        "outputId": "ff224942-5c95-4854-8486-d97eb127fd98"
      },
      "execution_count": 103,
      "outputs": [
        {
          "output_type": "stream",
          "name": "stdout",
          "text": [
            "[[-2.74951012e-01 -1.14016789e-01  2.42879019e-01 -4.03179688e-01\n",
            "  -5.11839650e-02 -3.78209323e-01 -4.18348254e-01  1.16978873e-01\n",
            "  -9.40324533e-02 -4.00481137e-01  4.06391023e-01  1.70187012e-02\n",
            "  -1.42833523e-01  2.03651208e-02  3.15103773e-03]\n",
            " [-1.66569846e-01 -1.30608567e-02 -6.74709343e-03  5.68582692e-01\n",
            "  -3.61907761e-02  2.97488945e-01 -2.68896588e-01 -9.84955907e-02\n",
            "  -5.78629897e-01 -3.31564381e-01 -3.62642939e-02 -8.13281031e-02\n",
            "  -1.55526985e-01  9.96924652e-04 -8.33102457e-03]\n",
            " [ 4.03171734e-02 -1.04049686e-01  1.18191585e-03  1.34576058e-01\n",
            "  -4.65845438e-02 -7.60177323e-02 -1.10725491e-01  2.35761287e-01\n",
            "  -4.80419293e-02  5.16808177e-01  1.34264357e-01  1.17821131e-01\n",
            "  -6.70583502e-01 -1.39694876e-01  3.50912233e-01]\n",
            " [-1.16671972e-01  5.48229649e-01 -3.49768868e-02 -1.42273802e-02\n",
            "   4.17971132e-01 -3.01274748e-01  1.64880761e-01 -8.60088107e-02\n",
            "  -3.23625304e-01  2.41743812e-01  1.64311035e-01 -1.10379359e-01\n",
            "  -1.46071003e-01  7.55057796e-02 -3.93654152e-01]\n",
            " [-2.65616312e-01  5.75287947e-01  1.61438941e-01  5.52635193e-02\n",
            "  -6.45041810e-01  2.13525060e-01 -1.04460904e-01  5.40954960e-02\n",
            "   2.22139753e-01  1.35307941e-01  1.26472642e-01 -4.72558860e-02\n",
            "   2.05455861e-02  4.85936783e-02 -7.21016633e-02]\n",
            " [ 2.94061153e-01  6.22296332e-02  1.90920034e-02  2.43779183e-01\n",
            "   7.17919307e-02 -2.26742017e-01 -5.81780709e-01 -4.30936407e-03\n",
            "  -4.84257705e-02  3.45945804e-01  1.66491299e-01 -2.34988801e-02\n",
            "   5.37875490e-01 -9.67102975e-03  1.22925397e-01]\n",
            " [-1.40580992e-01  2.75273193e-02 -6.36716119e-03  6.07381574e-01\n",
            "   1.24020064e-01 -3.28758630e-01  2.63278270e-01 -5.30458391e-04\n",
            "   4.44943665e-01 -2.64433845e-01  3.37519099e-01  1.31877466e-01\n",
            "   1.03637399e-02  3.56066806e-02  1.31000753e-01]\n",
            " [ 4.47886637e-01  3.18694557e-01  6.92503019e-01  2.41401230e-02\n",
            "   2.15289452e-01  5.71238779e-02 -1.73805750e-02  6.94953094e-02\n",
            "   8.19623804e-02 -2.34315327e-01 -2.20411353e-01 -2.39884057e-02\n",
            "  -1.53620083e-01 -1.84862847e-02  1.68002408e-01]\n",
            " [-1.33610460e-01 -2.64575968e-02  3.51476497e-02 -4.80682374e-02\n",
            "   2.08893320e-03 -1.11432122e-01 -2.22408241e-02 -6.04326321e-01\n",
            "   1.31553989e-01  5.83781763e-02 -3.36292159e-02 -6.66482436e-01\n",
            "  -1.00093898e-01 -1.41005074e-01  3.22227321e-01]\n",
            " [-3.87491791e-01 -3.75858944e-01  6.44490768e-01  8.95568073e-02\n",
            "   8.18850230e-02  1.32915162e-01  1.94899571e-01 -6.78303930e-02\n",
            "  -9.10178852e-02  3.59309042e-01  9.74510492e-02  5.90004097e-02\n",
            "   2.14144614e-01 -5.15449237e-03 -1.48268369e-01]\n",
            " [-1.72073876e-01  1.73749013e-01 -2.70567905e-03 -4.31118078e-02\n",
            "  -9.89971473e-02 -2.16820537e-01  2.85674617e-01  2.78739160e-01\n",
            "  -3.17143709e-01 -7.30581872e-02 -1.23293331e-01 -3.78844619e-04\n",
            "   2.91906116e-01 -6.27060452e-01  3.50265351e-01]\n",
            " [-1.26512595e-01  7.45536900e-02  6.73817347e-03 -6.78488873e-02\n",
            "  -6.40898841e-02 -1.44319763e-01  1.87232796e-01  6.24482300e-02\n",
            "  -2.58050345e-01  3.83803932e-02 -1.22744872e-01  2.51254089e-02\n",
            "   1.26992119e-01  7.33600064e-01  5.21381963e-01]\n",
            " [-3.40869387e-01 -1.60207470e-02  3.00409745e-02  1.37491909e-01\n",
            "   1.37589471e-03 -3.98262619e-01 -2.80342416e-01  4.27990145e-02\n",
            "   1.83495568e-01  4.46766112e-02 -7.35732684e-01  1.00701152e-01\n",
            "  -8.64306448e-02  1.82557794e-02 -1.72605972e-01]]\n",
            "(13, 15)\n"
          ]
        }
      ]
    },
    {
      "cell_type": "code",
      "source": [
        "data=np.array(data)\n",
        "pc=np.array(matrix.T)\n",
        "data_new=np.dot(data,pc)\n",
        "\n",
        "end_time = time.perf_counter()\n",
        "totaltime=end_time-start_time\n",
        "print(totaltime)"
      ],
      "metadata": {
        "colab": {
          "base_uri": "https://localhost:8080/"
        },
        "id": "HDMJqXlhPLBh",
        "outputId": "8ef066f4-c536-49de-bf9d-3606c8e3260b"
      },
      "execution_count": 104,
      "outputs": [
        {
          "output_type": "stream",
          "name": "stdout",
          "text": [
            "5112.810357044\n"
          ]
        }
      ]
    },
    {
      "cell_type": "code",
      "source": [
        "data_new.shape\n",
        "datanew=pd.DataFrame(data_new)\n"
      ],
      "metadata": {
        "id": "QsJgvmdXak2j"
      },
      "execution_count": 108,
      "outputs": []
    },
    {
      "cell_type": "code",
      "source": [
        "datanew.to_csv('/content/gdrive/MyDrive/Colab Notebooks/data lin algebra/data_new.csv', index=False)"
      ],
      "metadata": {
        "id": "hK83lWAwauvk"
      },
      "execution_count": 109,
      "outputs": []
    },
    {
      "cell_type": "code",
      "source": [
        "norm2 = np.linalg.norm(data)\n",
        "norm2_2 = np.linalg.norm(data_new)\n",
        "print(norm2_2,norm2)"
      ],
      "metadata": {
        "colab": {
          "base_uri": "https://localhost:8080/"
        },
        "id": "UHsVsbnZbqPW",
        "outputId": "1ea6f36c-2a14-4623-9ddf-023163cfd5b8"
      },
      "execution_count": 110,
      "outputs": [
        {
          "output_type": "stream",
          "name": "stdout",
          "text": [
            "649.1397467977555 698.8669401252266\n"
          ]
        }
      ]
    },
    {
      "cell_type": "code",
      "source": [
        "start_time = time.perf_counter()\n",
        "\n",
        "import numpy as np\n",
        "from sklearn.decomposition import PCA\n",
        "\n",
        "pca = PCA(n_components=2)\n",
        "A_new2 = pca.fit_transform(data)\n",
        "\n",
        "end_time = time.perf_counter()\n",
        "tot=end_time-start_time\n",
        "print(tot)"
      ],
      "metadata": {
        "colab": {
          "base_uri": "https://localhost:8080/"
        },
        "id": "F2-C0SedcEv6",
        "outputId": "747a45e2-ad23-4c06-f69b-ce9a095bc1fc"
      },
      "execution_count": 111,
      "outputs": [
        {
          "output_type": "stream",
          "name": "stdout",
          "text": [
            "0.700724481999714\n"
          ]
        }
      ]
    },
    {
      "cell_type": "code",
      "source": [
        "import numpy as np\n",
        "from sklearn.decomposition import PCA\n",
        "from sklearn.metrics import mean_squared_error\n",
        "\n",
        "Y =data\n",
        "\n",
        "pca = PCA(n_components=2)\n",
        "Y_pca = pca.fit_transform(Y)\n",
        "\n",
        "Y_reconstructed = pca.inverse_transform(Y_pca)\n",
        "\n",
        "mse = mean_squared_error(Y, Y_reconstructed)\n",
        "print(\"خطای بازسازی (MSE):\", mse)\n"
      ],
      "metadata": {
        "colab": {
          "base_uri": "https://localhost:8080/"
        },
        "id": "J6fghb_LcN2Y",
        "outputId": "951925a6-428a-48fb-9bd4-69507235e13d"
      },
      "execution_count": 112,
      "outputs": [
        {
          "output_type": "stream",
          "name": "stdout",
          "text": [
            "خطای بازسازی (MSE): 0.7434989915360593\n"
          ]
        }
      ]
    },
    {
      "cell_type": "code",
      "source": [
        "  mean_vector = np.mean(data, axis=0)\n"
      ],
      "metadata": {
        "id": "dpnToQ4ucSes"
      },
      "execution_count": 114,
      "outputs": []
    },
    {
      "cell_type": "code",
      "source": [
        "centered_data = data- mean_vector\n"
      ],
      "metadata": {
        "id": "H4xvNdAQcT_N"
      },
      "execution_count": 116,
      "outputs": []
    },
    {
      "cell_type": "code",
      "source": [
        "  reconstructed_data = np.dot(data_new, pc.T) + mean_vector\n"
      ],
      "metadata": {
        "id": "3mKaShzZcUFA"
      },
      "execution_count": 117,
      "outputs": []
    },
    {
      "cell_type": "code",
      "source": [
        "  reconstructed_data.shape"
      ],
      "metadata": {
        "colab": {
          "base_uri": "https://localhost:8080/"
        },
        "id": "7ewlIiBoc_k0",
        "outputId": "4963c60d-b877-4984-e6ec-fda2893b5381"
      },
      "execution_count": 119,
      "outputs": [
        {
          "output_type": "execute_result",
          "data": {
            "text/plain": [
              "(32561, 15)"
            ]
          },
          "metadata": {},
          "execution_count": 119
        }
      ]
    },
    {
      "cell_type": "code",
      "source": [
        "mse = mean_squared_error(data, reconstructed_data)\n",
        "print(mse)"
      ],
      "metadata": {
        "colab": {
          "base_uri": "https://localhost:8080/"
        },
        "id": "6tin7NEFdFcK",
        "outputId": "811cf31a-a4dd-43ef-d0af-dc7285536d68"
      },
      "execution_count": 120,
      "outputs": [
        {
          "output_type": "stream",
          "name": "stdout",
          "text": [
            "0.13724514846386968\n"
          ]
        }
      ]
    },
    {
      "cell_type": "code",
      "source": [
        "import numpy as np\n",
        "import matplotlib.pyplot as plt\n",
        "\n",
        "explained_variance_ratio = eigenvalues / np.sum( eigenvalues)\n",
        "\n",
        "cumulative_variance = np.cumsum(explained_variance_ratio)\n",
        "\n",
        "k = np.argmax(cumulative_variance >= 0.90)\n",
        "\n",
        "plt.plot(range(1, len(cumulative_variance) + 1), cumulative_variance, marker='o', linestyle='-', label=\"sum var\")\n",
        "plt.axhline(y=0.95, color='r', linestyle='--', label=\"var 95 %\")\n",
        "plt.axvline(x=k, color='g', linestyle='--', label=f\"K = {k}\")\n",
        "plt.xlabel(\"number of pc\")\n",
        "plt.ylabel(\"culmative variance\")\n",
        "plt.legend()\n",
        "plt.grid()\n",
        "plt.show()"
      ],
      "metadata": {
        "colab": {
          "base_uri": "https://localhost:8080/",
          "height": 449
        },
        "id": "RbE0UvMhdVAU",
        "outputId": "a6f93930-7846-4912-d3d5-bbdfab4745c0"
      },
      "execution_count": 123,
      "outputs": [
        {
          "output_type": "display_data",
          "data": {
            "text/plain": [
              "<Figure size 640x480 with 1 Axes>"
            ],
            "image/png": "[encoded data removed]"
          },
          "metadata": {}
        }
      ]
    }
  ]
}