{
  "nbformat": 4,
  "nbformat_minor": 0,
  "metadata": {
    "colab": {
      "provenance": []
    },
    "kernelspec": {
      "name": "python3",
      "display_name": "Python 3"
    },
    "language_info": {
      "name": "python"
    }
  },
  "cells": [
    {
      "cell_type": "code",
      "execution_count": 140,
      "metadata": {
        "id": "2SPeoCVEVq03",
        "colab": {
          "base_uri": "https://localhost:8080/"
        },
        "outputId": "8541bc99-15cf-44bf-ec4b-5d840cc46f9f"
      },
      "outputs": [
        {
          "output_type": "stream",
          "name": "stdout",
          "text": [
            "Drive already mounted at /content/gdrive; to attempt to forcibly remount, call drive.mount(\"/content/gdrive\", force_remount=True).\n"
          ]
        }
      ],
      "source": [
        "from google.colab import drive\n",
        "drive.mount('/content/gdrive')\n",
        "\n"
      ]
    },
    {
      "cell_type": "code",
      "source": [
        "import time\n",
        "import pandas as pd\n",
        "import numpy as np\n",
        "start_time = time.perf_counter()\n"
      ],
      "metadata": {
        "id": "EfXRTp9MX0BU"
      },
      "execution_count": 141,
      "outputs": []
    },
    {
      "cell_type": "code",
      "source": [
        "A = pd.read_csv(\"/content/gdrive/MyDrive/Colab Notebooks/data lin algebra/iris.data.csv\")"
      ],
      "metadata": {
        "id": "wMBdTdBtYUFI"
      },
      "execution_count": 142,
      "outputs": []
    },
    {
      "cell_type": "code",
      "source": [
        "A = A.drop('c5', axis=1)"
      ],
      "metadata": {
        "id": "M5CZfJTJghV4"
      },
      "execution_count": 143,
      "outputs": []
    },
    {
      "cell_type": "code",
      "source": [
        "np.array(A).shape"
      ],
      "metadata": {
        "id": "Q6JLfT3WFBYk",
        "outputId": "94aeeae5-ad70-4878-9c4c-12f4ea80f9c4",
        "colab": {
          "base_uri": "https://localhost:8080/"
        }
      },
      "execution_count": 144,
      "outputs": [
        {
          "output_type": "execute_result",
          "data": {
            "text/plain": [
              "(150, 4)"
            ]
          },
          "metadata": {},
          "execution_count": 144
        }
      ]
    },
    {
      "cell_type": "code",
      "source": [
        "from sklearn.preprocessing import MinMaxScaler, StandardScaler\n",
        "import numpy as np"
      ],
      "metadata": {
        "id": "5-1xu0Dwh5on"
      },
      "execution_count": 145,
      "outputs": []
    },
    {
      "cell_type": "code",
      "source": [
        "standard_scaler = StandardScaler()\n",
        "Ast = standard_scaler.fit_transform(A)\n",
        "A_2 = pd.DataFrame(Ast, columns=A.columns)\n",
        "\n",
        "print(A_2)"
      ],
      "metadata": {
        "colab": {
          "base_uri": "https://localhost:8080/"
        },
        "id": "xLhMMAg1kaNW",
        "outputId": "aa72a217-6bc0-4b4d-f342-d5da9fd265a5"
      },
      "execution_count": 146,
      "outputs": [
        {
          "output_type": "stream",
          "name": "stdout",
          "text": [
            "           c1        c2        c3        c4\n",
            "0   -1.385353  0.337848 -1.398138 -1.312977\n",
            "1   -1.506521  0.106445 -1.284407 -1.312977\n",
            "2   -1.021849  1.263460 -1.341272 -1.312977\n",
            "3   -0.537178  1.957669 -1.170675 -1.050031\n",
            "4   -1.506521  0.800654 -1.341272 -1.181504\n",
            "..        ...       ...       ...       ...\n",
            "145  0.795669 -0.124958  0.819624  1.053537\n",
            "146  0.432165  0.800654  0.933356  1.447956\n",
            "147  0.068662 -0.124958  0.762759  0.790591\n",
            "148 -0.900681  1.032057 -1.341272 -1.312977\n",
            "149 -1.143017 -0.124958 -1.341272 -1.312977\n",
            "\n",
            "[150 rows x 4 columns]\n"
          ]
        }
      ]
    },
    {
      "cell_type": "code",
      "source": [
        "covariance_matrix = np.cov(Ast.transpose(), rowvar=True)\n",
        "print(covariance_matrix)\n"
      ],
      "metadata": {
        "colab": {
          "base_uri": "https://localhost:8080/"
        },
        "id": "61prv5o5pZkU",
        "outputId": "b03aed5c-8e79-4a28-e787-d8cc2e1b6d8d"
      },
      "execution_count": 147,
      "outputs": [
        {
          "output_type": "stream",
          "name": "stdout",
          "text": [
            "[[ 1.00671141 -0.11010327  0.87760486  0.82344326]\n",
            " [-0.11010327  1.00671141 -0.42333835 -0.358937  ]\n",
            " [ 0.87760486 -0.42333835  1.00671141  0.96921855]\n",
            " [ 0.82344326 -0.358937    0.96921855  1.00671141]]\n"
          ]
        }
      ]
    },
    {
      "cell_type": "code",
      "source": [
        "eigenvalues, eigenvectors = np.linalg.eig(covariance_matrix)\n",
        "\n",
        "print(\"Eigenvalues:\")\n",
        "print(eigenvalues)\n",
        "\n",
        "print(\"Eigenvectors:\")\n",
        "print(eigenvectors)"
      ],
      "metadata": {
        "colab": {
          "base_uri": "https://localhost:8080/"
        },
        "id": "z5r4skMP3XQ6",
        "outputId": "15db1354-a635-410d-945b-f4fc58699fb9"
      },
      "execution_count": 148,
      "outputs": [
        {
          "output_type": "stream",
          "name": "stdout",
          "text": [
            "Eigenvalues:\n",
            "[2.93035378 0.92740362 0.14834223 0.02074601]\n",
            "Eigenvectors:\n",
            "[[ 0.52237162 -0.37231836 -0.72101681  0.26199559]\n",
            " [-0.26335492 -0.92555649  0.24203288 -0.12413481]\n",
            " [ 0.58125401 -0.02109478  0.14089226 -0.80115427]\n",
            " [ 0.56561105 -0.06541577  0.6338014   0.52354627]]\n"
          ]
        }
      ]
    },
    {
      "cell_type": "code",
      "source": [
        "#p vector\n",
        "X=[[0.52237162,-0.37231836],[-0.26335492,-0.92555649],[0.58125401,-0.02109478],[0.56561105,-0.06541577]]\n",
        "\n",
        "print(X)"
      ],
      "metadata": {
        "colab": {
          "base_uri": "https://localhost:8080/"
        },
        "id": "2S84jpzV8bo1",
        "outputId": "e8d07382-9c99-43e1-f7c8-701883edbe90"
      },
      "execution_count": 149,
      "outputs": [
        {
          "output_type": "stream",
          "name": "stdout",
          "text": [
            "[[0.52237162, -0.37231836], [-0.26335492, -0.92555649], [0.58125401, -0.02109478], [0.56561105, -0.06541577]]\n"
          ]
        }
      ]
    },
    {
      "cell_type": "markdown",
      "source": [
        "how to find good K<d\n",
        "-------\n",
        "Explained Variance\n",
        "چه مقدار از کل واریانس داده‌ها را حفظ می‌کند.(واریانس توصیفی)\n",
        "![image.png](data:image/png;base64,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)\n",
        "------------------------------------------------\n",
        " محاسبه واریانس تجمعی\n",
        "  این آرایه نشان می‌دهد که با اضافه کردن هر مؤلفه‌ی اصلی، چه مقدار از واریانس داده‌ها حفظ می‌شود.\n",
        "\n",
        "\n",
        "\n"
      ],
      "metadata": {
        "id": "MU89770eLVCk"
      }
    },
    {
      "cell_type": "code",
      "source": [
        "import numpy as np\n",
        "\n",
        "\n",
        "explained_variance_ratio =  eigenvalues / np.sum( eigenvalues)\n",
        "\n",
        "# محاسبه واریانس تجمعی\n",
        "cumulative_variance = np.cumsum(explained_variance_ratio)\n",
        "\n",
        "#  انتخاب K برای حفظ حداقل ۹۵٪ واریانس\n",
        "k = np.argmax(cumulative_variance >= 0.95) + 1\n",
        "\n",
        "#  نمایش نتایج\n",
        "print(\"🔹 نسبت واریانس توضیح داده‌شده:\")\n",
        "print(explained_variance_ratio)\n",
        "\n",
        "print(\"\\n🔹 واریانس تجمعی:\")\n",
        "print(cumulative_variance)\n",
        "\n",
        "print(f\"\\n تعداد مؤلفه‌های اصلی انتخاب‌شده (K) برای حفظ ۹۵٪ واریانس: {k}\")\n",
        "\n"
      ],
      "metadata": {
        "colab": {
          "base_uri": "https://localhost:8080/"
        },
        "id": "_aUiPfm0LXyY",
        "outputId": "03411134-f954-43f3-9212-4476fceaef9c"
      },
      "execution_count": 150,
      "outputs": [
        {
          "output_type": "stream",
          "name": "stdout",
          "text": [
            "🔹 نسبت واریانس توضیح داده‌شده:\n",
            "[0.72770452 0.23030523 0.03683832 0.00515193]\n",
            "\n",
            "🔹 واریانس تجمعی:\n",
            "[0.72770452 0.95800975 0.99484807 1.        ]\n",
            "\n",
            " تعداد مؤلفه‌های اصلی انتخاب‌شده (K) برای حفظ ۹۵٪ واریانس: 2\n"
          ]
        }
      ]
    },
    {
      "cell_type": "code",
      "source": [
        "#new dimension\n",
        "X=np.array(X)\n",
        "A_new=np.dot(Ast,X)\n",
        "\n",
        "end_time = time.perf_counter()\n",
        "totaltime=end_time-start_time\n",
        "print(totaltime)"
      ],
      "metadata": {
        "id": "s9bQYlbzSAto",
        "colab": {
          "base_uri": "https://localhost:8080/"
        },
        "outputId": "ef19eed0-15c3-4ebd-f192-b568d3713249"
      },
      "execution_count": 151,
      "outputs": [
        {
          "output_type": "stream",
          "name": "stdout",
          "text": [
            "0.4593327889997454\n"
          ]
        }
      ]
    },
    {
      "cell_type": "code",
      "source": [
        "A_new.shape"
      ],
      "metadata": {
        "id": "aTIyROZOOPqv",
        "colab": {
          "base_uri": "https://localhost:8080/"
        },
        "outputId": "d609547c-4e1d-45d4-b519-dc4cd9b48f55"
      },
      "execution_count": 152,
      "outputs": [
        {
          "output_type": "execute_result",
          "data": {
            "text/plain": [
              "(150, 2)"
            ]
          },
          "metadata": {},
          "execution_count": 152
        }
      ]
    },
    {
      "cell_type": "markdown",
      "source": [
        "diemesnion reduced to 2 (from 4)"
      ],
      "metadata": {
        "id": "3JW_QmiHOTmi"
      }
    },
    {
      "cell_type": "code",
      "source": [
        "norm2 = np.linalg.norm(Ast)\n",
        "norm2_2 = np.linalg.norm(A_new)\n",
        "print(norm2_2,norm2)\n"
      ],
      "metadata": {
        "id": "SUm6lePROX6D",
        "colab": {
          "base_uri": "https://localhost:8080/"
        },
        "outputId": "fad83f38-049d-479c-b6bd-b4145489b79f"
      },
      "execution_count": 153,
      "outputs": [
        {
          "output_type": "stream",
          "name": "stdout",
          "text": [
            "23.975109050484427 24.494897427831784\n"
          ]
        }
      ]
    },
    {
      "cell_type": "markdown",
      "source": [
        "\n",
        "# **compare with library**\n"
      ],
      "metadata": {
        "id": "oS4rvU3ilfDj"
      }
    },
    {
      "cell_type": "code",
      "source": [
        "\n",
        "start_time = time.perf_counter()\n",
        "\n",
        "import numpy as np\n",
        "from sklearn.decomposition import PCA\n",
        "\n",
        "pca = PCA(n_components=2)\n",
        "A_new2 = pca.fit_transform(Ast)\n",
        "\n",
        "end_time = time.perf_counter()\n",
        "tot=end_time-start_time\n",
        "print(tot)"
      ],
      "metadata": {
        "id": "FdKEocBIVmb0",
        "colab": {
          "base_uri": "https://localhost:8080/"
        },
        "outputId": "9657cc11-59d8-4366-aba6-4e123b893b70"
      },
      "execution_count": 154,
      "outputs": [
        {
          "output_type": "stream",
          "name": "stdout",
          "text": [
            "0.0019394470000406727\n"
          ]
        }
      ]
    },
    {
      "cell_type": "code",
      "source": [
        "import numpy as np\n",
        "from sklearn.decomposition import PCA\n",
        "from sklearn.metrics import mean_squared_error\n",
        "\n",
        "Y =Ast\n",
        "\n",
        "pca = PCA(n_components=2)\n",
        "Y_pca = pca.fit_transform(Y)\n",
        "\n",
        "Y_reconstructed = pca.inverse_transform(Y_pca)\n",
        "\n",
        "mse = mean_squared_error(Y, Y_reconstructed)\n",
        "print(\"خطای بازسازی (MSE):\", mse)\n",
        "\n"
      ],
      "metadata": {
        "id": "KdVTF23kuVCu",
        "colab": {
          "base_uri": "https://localhost:8080/"
        },
        "outputId": "69a22107-5a37-40c3-de7b-fe3ec8381908"
      },
      "execution_count": 155,
      "outputs": [
        {
          "output_type": "stream",
          "name": "stdout",
          "text": [
            "خطای بازسازی (MSE): 0.04199024638518026\n"
          ]
        }
      ]
    },
    {
      "cell_type": "markdown",
      "source": [
        "![image.png](data:image/png;base64,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)"
      ],
      "metadata": {
        "id": "Zt9XLXhyBQhj"
      }
    },
    {
      "cell_type": "code",
      "source": [
        "\n",
        "  mean_vector = np.mean(Ast, axis=0)\\\n",
        "\n",
        "  #μ is the mean vector of shape (1×n), where each element represents the mean of a feature across all samples.\n",
        "\n",
        "\n"
      ],
      "metadata": {
        "id": "QRAh8ldfCzbK"
      },
      "execution_count": 156,
      "outputs": []
    },
    {
      "cell_type": "code",
      "source": [
        "centered_data = Ast- mean_vector\n",
        " #Center the Data"
      ],
      "metadata": {
        "id": "UluB7NO4GvV4"
      },
      "execution_count": 157,
      "outputs": []
    },
    {
      "cell_type": "code",
      "source": [
        "  reconstructed_data = np.dot(A_new, X.T) + mean_vector\n"
      ],
      "metadata": {
        "id": "KD9AyYvoGxVX"
      },
      "execution_count": 158,
      "outputs": []
    },
    {
      "cell_type": "code",
      "source": [
        "mse = mean_squared_error(Ast, reconstructed_data)\n",
        "print(mse)"
      ],
      "metadata": {
        "id": "qqzcavFZEdV4",
        "colab": {
          "base_uri": "https://localhost:8080/"
        },
        "outputId": "d4a3b087-e920-4a9e-e969-16cb76fa890d"
      },
      "execution_count": 159,
      "outputs": [
        {
          "output_type": "stream",
          "name": "stdout",
          "text": [
            "0.04199024638518034\n"
          ]
        }
      ]
    },
    {
      "cell_type": "code",
      "source": [
        "import numpy as np\n",
        "import matplotlib.pyplot as plt\n",
        "\n",
        "explained_variance_ratio = eigenvalues / np.sum( eigenvalues)\n",
        "\n",
        "cumulative_variance = np.cumsum(explained_variance_ratio)\n",
        "\n",
        "k = np.argmax(cumulative_variance >= 0.95) + 1\n",
        "\n",
        "plt.plot(range(1, len(cumulative_variance) + 1), cumulative_variance, marker='o', linestyle='-', label=\"sum var\")\n",
        "plt.axhline(y=0.95, color='r', linestyle='--', label=\"var 95 %\")\n",
        "plt.axvline(x=k, color='g', linestyle='--', label=f\"K = {k}\")\n",
        "plt.xlabel(\"number of pc\")\n",
        "plt.ylabel(\"culmative variance\")\n",
        "plt.legend()\n",
        "plt.grid()\n",
        "plt.show()\n"
      ],
      "metadata": {
        "colab": {
          "base_uri": "https://localhost:8080/",
          "height": 449
        },
        "id": "enjNGiP56BuU",
        "outputId": "02a8964a-c63a-4ccc-a22a-c536a948a9a9"
      },
      "execution_count": 160,
      "outputs": [
        {
          "output_type": "display_data",
          "data": {
            "text/plain": [
              "<Figure size 640x480 with 1 Axes>"
            ],
            "image/png": "[encoded data removed]"
          },
          "metadata": {}
        }
      ]
    }
  ]
}